{
 "cells": [
  {
   "cell_type": "code",
   "execution_count": 15,
   "id": "f0724f60",
   "metadata": {},
   "outputs": [
    {
     "name": "stdout",
     "output_type": "stream",
     "text": [
      "Enter any string here: Racecar\n",
      "The reversed string is :  racecaR\n"
     ]
    }
   ],
   "source": [
    "##Q1## Program to reverse the string using loops.\n",
    "\n",
    "str_ = str(input(\"Enter any string here: \"))  \n",
    "\n",
    "rev_str = \"\"                                     # empty string created.\n",
    "length = len(str_)                               # length of 'str_' stored in a variable.\n",
    "\n",
    "while length > 0:   \n",
    "    rev_str += str_[ length - 1 ]                # adding all the letters one by one.\n",
    "    length -= 1                                  # decrementing the index of 'str_'.\n",
    "print (\"The reversed string is : \",rev_str)"
   ]
  },
  {
   "cell_type": "code",
   "execution_count": 24,
   "id": "16c1bdcc",
   "metadata": {
    "scrolled": true
   },
   "outputs": [
    {
     "name": "stdout",
     "output_type": "stream",
     "text": [
      "Enter the Divisor here: 7\n",
      "Enter lower limit of the range: 0\n",
      "Enter upper limit of the range: 99\n",
      "0\n",
      "7\n",
      "14\n",
      "21\n",
      "28\n",
      "35\n",
      "42\n",
      "49\n",
      "56\n",
      "63\n",
      "70\n",
      "77\n",
      "84\n",
      "91\n",
      "98\n"
     ]
    }
   ],
   "source": [
    "##Q2## Python Program to Print all Numbers in a Range Divisible by a Given Number.\n",
    "\n",
    "divisor = int(input(\"Enter the Divisor here: \"))\n",
    "L = int(input(\"Enter lower limit of the range: \"))\n",
    "U = int(input(\"Enter upper limit of the range: \"))\n",
    "\n",
    "for i in range(L , U) :                 # Range set by the user\n",
    "    if (i % divisor == 0) :             # Checking the divisibility\n",
    "        print(i)"
   ]
  },
  {
   "cell_type": "code",
   "execution_count": 26,
   "id": "33bd2384",
   "metadata": {
    "scrolled": true
   },
   "outputs": [
    {
     "name": "stdout",
     "output_type": "stream",
     "text": [
      "Enter Length of first side: 11\n",
      "Enter Length of second side: 12\n",
      "Enter Length of third side: 20\n",
      "The area of the triangle is: 56.72\n"
     ]
    }
   ],
   "source": [
    "## Q3 ## Program to calculate the area of a triangle using heron’s formula. (check condition if the combination of sides is possible).\n",
    "\n",
    "s1 = int(input(\"Enter Length of first side: \"))\n",
    "s2 = int(input(\"Enter Length of second side: \"))\n",
    "s3 = int(input(\"Enter Length of third side: \"))\n",
    "if s1 + s2 > s3 and s2 + s3 > s1 and s1 + s3 > s2 :      # checking if triangle is possible.\n",
    "    \n",
    "    s = ((s1 + s2 + s3)/2)                               # Semi-perimeter\n",
    "    \n",
    "    ar = (s*(s-s1)*(s-s2)*(s-s3))**(0.5)                 # Heron's Formula\n",
    "    \n",
    "print(\"The area of the triangle is:\", round(ar,2))"
   ]
  },
  {
   "cell_type": "code",
   "execution_count": 19,
   "id": "2e6f353c",
   "metadata": {},
   "outputs": [
    {
     "name": "stdout",
     "output_type": "stream",
     "text": [
      "\n",
      "* \n",
      "* * \n",
      "* * * \n",
      "* * * * \n",
      "* * * * * \n",
      "* * * * \n",
      "* * * \n",
      "* * \n",
      "* \n"
     ]
    }
   ],
   "source": [
    "## Q4 ## Star Question.\n",
    "\n",
    "n=5;\n",
    "for i in range(0,n):               # For Upper Part\n",
    "    for j in range(0,i):\n",
    "        print ('*', end=\" \")\n",
    "    print(\"\")\n",
    "\n",
    "for i in range(n,0,-1):            # For Lower Part\n",
    "    for j in range(i):\n",
    "        print('*', end=\" \")\n",
    "    print(\"\")"
   ]
  },
  {
   "cell_type": "code",
   "execution_count": 38,
   "id": "d6a9d879",
   "metadata": {},
   "outputs": [
    {
     "name": "stdout",
     "output_type": "stream",
     "text": [
      "Enter number of rows here: 8\n",
      "A\n",
      "BC\n",
      "DEF\n",
      "GHIJ\n",
      "KLMNO\n",
      "PQRSTU\n",
      "VWXYZAB\n",
      "CDEFGHIJ\n"
     ]
    }
   ],
   "source": [
    "## Q5 ## Write a python program to print a triangular pattern of the alphabet (user input the number of rows).\n",
    "       # Example: Input the number of rows = 5, then the pattern should come out as given below.\n",
    "       # If the count of the alphabet gets exhausted, repeat the alphabet from A.\n",
    "        \n",
    "n = int(input(\"Enter number of rows here: \"))\n",
    "a = 0\n",
    "for i in range(0,n):\n",
    "    for j in range(0,i+1):\n",
    "        alphabet = 65+a\n",
    "        print(chr(alphabet), end=\"\")\n",
    "        a += 1\n",
    "        if alphabet > 89:\n",
    "            a = 0\n",
    "            continue\n",
    "    print()"
   ]
  },
  {
   "cell_type": "code",
   "execution_count": 27,
   "id": "810686d2",
   "metadata": {},
   "outputs": [
    {
     "name": "stdout",
     "output_type": "stream",
     "text": [
      "Enter lower limit of the range here: 0\n",
      "Enter upper limit of range here: 19\n",
      "1\n",
      "2\n",
      "3\n",
      "5\n",
      "7\n",
      "11\n",
      "13\n",
      "17\n"
     ]
    }
   ],
   "source": [
    "## Q6 ## Write a python program to print the prime numbers for a user input range.\n",
    "\n",
    "Min_limit = int(input(\"Enter lower limit of the range here: \"))\n",
    "Max_limit = int(input(\"Enter upper limit of range here: \"))\n",
    "\n",
    "for i in range(Min_limit, Max_limit):\n",
    "    if i > 0:\n",
    "        for j in range(2,i):\n",
    "            if i%j == 0:\n",
    "                break\n",
    "        else:\n",
    "            print(i)"
   ]
  },
  {
   "cell_type": "code",
   "execution_count": 31,
   "id": "9af686a0",
   "metadata": {},
   "outputs": [
    {
     "name": "stdout",
     "output_type": "stream",
     "text": [
      "77\n",
      "154\n",
      "231\n",
      "308\n",
      "385\n",
      "462\n"
     ]
    }
   ],
   "source": [
    "## Q7 ## Write a python program to find the numbers which are multiple of 7 and divisible by 11 in the range 1-500.\n",
    "\n",
    "for i in range(1,500):\n",
    "    if i % 77 == 0:          # If a number is divisible by both 7 and 11, it is divisible by 77.\n",
    "        print(i)"
   ]
  },
  {
   "cell_type": "code",
   "execution_count": 32,
   "id": "eed3db26",
   "metadata": {},
   "outputs": [
    {
     "name": "stdout",
     "output_type": "stream",
     "text": [
      "Enter 10 integer values -->\n",
      "1\n",
      "2\n",
      "3\n",
      "4\n",
      "5\n",
      "6\n",
      "-7\n",
      "-8\n",
      "-9\n",
      "0\n",
      "[1, 2, 3, 4, 5, 6, -7, -8, -9, 0]\n",
      "\n",
      "The sublist of positve numbers is [1, 2, 3, 4, 5, 6]\n",
      "\n",
      "The sublist of negative numbers is [-7, -8, -9]\n",
      "\n",
      "The sublist of odd numbers is [1, 3, 5, -7, -9]\n",
      "\n",
      "The sublist of even numbers is [2, 4, 6, -8, 0]\n",
      "\n",
      "1 occurs 1 times.\n",
      "2 occurs 1 times.\n",
      "3 occurs 1 times.\n",
      "4 occurs 1 times.\n",
      "5 occurs 1 times.\n",
      "6 occurs 1 times.\n",
      "-7 occurs 1 times.\n",
      "-8 occurs 1 times.\n",
      "-9 occurs 1 times.\n",
      "0 occurs 1 times.\n"
     ]
    }
   ],
   "source": [
    "## Q8 ## Input 10 integer values from the user. Write a python program to find and print the following:\n",
    "\n",
    "Lst = []\n",
    "print(\"Enter 10 integer values -->\")\n",
    "for i in range(10):\n",
    "    Values = int(input())\n",
    "    Lst.append(Values)\n",
    "print(Lst)\n",
    "print()\n",
    "\n",
    "\n",
    "# a. Print all positive numbers in the entered list.\n",
    "\n",
    "P_Lst = []\n",
    "for num in Lst:\n",
    "    if num > 0:\n",
    "        P_Lst.append(num)\n",
    "print(\"The sublist of positve numbers is\", P_Lst)\n",
    "print()\n",
    "\n",
    "\n",
    "#b. Print all negative numbers in the entered list.\n",
    "\n",
    "N_Lst = []\n",
    "for num in Lst:\n",
    "    if num < 0:\n",
    "        N_Lst.append(num)\n",
    "print(\"The sublist of negative numbers is\", N_Lst)\n",
    "print()\n",
    "\n",
    "\n",
    "#c. Print all odd numbers in the entered list.\n",
    "\n",
    "O_Lst = []\n",
    "for num in Lst:\n",
    "    if (num % 2) != 0:\n",
    "        O_Lst.append(num)\n",
    "print(\"The sublist of odd numbers is\", O_Lst)\n",
    "print()\n",
    "\n",
    "\n",
    "#d. Print all even numbers in the entered list.\n",
    "\n",
    "E_Lst = []\n",
    "for num in Lst:\n",
    "    if (num % 2) == 0:\n",
    "        E_Lst.append(num)\n",
    "print(\"The sublist of even numbers is\", E_Lst)\n",
    "print()\n",
    "\n",
    "\n",
    "#e. Print number of times each number occurs in the List.\n",
    "\n",
    "for num in Lst:\n",
    "    count = Lst.count(num)\n",
    "    print(num, 'occurs', count, 'times.')\n"
   ]
  },
  {
   "cell_type": "code",
   "execution_count": 40,
   "id": "205d248e",
   "metadata": {},
   "outputs": [
    {
     "name": "stdout",
     "output_type": "stream",
     "text": [
      "Enter the number of words you want to enter: 9\n",
      "\n",
      "Enter the word: Fuse\n",
      "Enter the word: conductor\n",
      "Enter the word: nikaal\n",
      "Enter the word: diya\n",
      "Enter the word: hai\n",
      "Enter the word: Gaindaswami\n",
      "Enter the word: Fuse\n",
      "Enter the word: conductor\n",
      "Enter the word: Hahahahahaha\n",
      "\n",
      "Fuse occurs 2 times.\n",
      "conductor occurs 2 times.\n",
      "nikaal occurs 1 times.\n",
      "diya occurs 1 times.\n",
      "hai occurs 1 times.\n",
      "Gaindaswami occurs 1 times.\n",
      "Fuse occurs 2 times.\n",
      "conductor occurs 2 times.\n",
      "Hahahahahaha occurs 1 times.\n"
     ]
    }
   ],
   "source": [
    "## Q9 ## Write a program to count the number of occurrences of each word in the list(List entered by the user).\n",
    "\n",
    "word_list = []\n",
    "n = int(input(\"Enter the number of words you want to enter: \"))\n",
    "print()\n",
    "\n",
    "for i in range(n):                                       \n",
    "    word = str(input(\"Enter the word: \"))        # List of User input.\n",
    "    word_list.append(word)\n",
    "print()\n",
    "\n",
    "for word in word_list:\n",
    "    count = word_list.count(word)                # Using count function to count occurence of each word.\n",
    "    print(word, \"occurs\", count, \"times.\")\n",
    "    "
   ]
  }
 ],
 "metadata": {
  "kernelspec": {
   "display_name": "Python 3",
   "language": "python",
   "name": "python3"
  },
  "language_info": {
   "codemirror_mode": {
    "name": "ipython",
    "version": 3
   },
   "file_extension": ".py",
   "mimetype": "text/x-python",
   "name": "python",
   "nbconvert_exporter": "python",
   "pygments_lexer": "ipython3",
   "version": "3.8.8"
  }
 },
 "nbformat": 4,
 "nbformat_minor": 5
}
